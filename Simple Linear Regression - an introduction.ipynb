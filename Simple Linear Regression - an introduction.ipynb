{
 "cells": [
  {
   "cell_type": "markdown",
   "metadata": {},
   "source": [
    "This summarises what is found in Lesson 1 of the Stats501 in Penn State University's Regression Methods Course\n",
    "\n",
    "This lesson deals with Simple Linear Regression, and includes how to calulate the best fitting line (least square method)\n",
    "\n",
    "https://newonlinecourses.science.psu.edu/stat501/node/250/"
   ]
  },
  {
   "cell_type": "code",
   "execution_count": 16,
   "metadata": {},
   "outputs": [],
   "source": [
    "import pandas as pd\n",
    "import numpy as np\n",
    "import statsmodels.api as sm\n",
    "import seaborn as sns\n",
    "import scipy"
   ]
  },
  {
   "cell_type": "code",
   "execution_count": 2,
   "metadata": {
    "scrolled": true
   },
   "outputs": [
    {
     "data": {
      "text/plain": [
       "<matplotlib.axes._subplots.AxesSubplot at 0x2b479046860>"
      ]
     },
     "execution_count": 2,
     "metadata": {},
     "output_type": "execute_result"
    },
    {
     "data": {
      "image/png": "[encoded data removed]",
      "text/plain": [
       "<Figure size 432x288 with 1 Axes>"
      ]
     },
     "metadata": {},
     "output_type": "display_data"
    }
   ],
   "source": [
    "data = pd.read_csv(\"Weight to Height Data.csv\")\n",
    "\n",
    "meanx = data.xi.mean()\n",
    "meany = data.yi.mean()\n",
    "\n",
    "sns.regplot(data.xi, data.yi)"
   ]
  },
  {
   "cell_type": "markdown",
   "metadata": {},
   "source": [
    "## Fitting SLR without stats packages"
   ]
  },
  {
   "cell_type": "markdown",
   "metadata": {},
   "source": [
    "Given a dataset, how might we find a line that best cut across these points on the chart? What is the optimal way to draw this line? \n",
    "\n",
    "A line is essentially a linear formula of y = mx + c. However, since we are not doing a simple line graph, we replace m with b1 and c with b0 (betas). \n",
    "\n",
    "To find betas, we do the following: "
   ]
  },
  {
   "cell_type": "code",
   "execution_count": 3,
   "metadata": {
    "scrolled": true
   },
   "outputs": [
    {
     "name": "stdout",
     "output_type": "stream",
     "text": [
      "Mean Squared Error: 74.67\n"
     ]
    }
   ],
   "source": [
    "# b1 - the slope of the line, or also known as the co-efficient\n",
    "b1 = sum((data.xi - meanx)*(data.yi - meany))/ sum((data.xi - meanx)**2)\n",
    "\n",
    "# b0 - the intercept of the line\n",
    "b0 = meany - b1*(meanx)\n",
    "\n",
    "var2 = sum((data.yi - meany)**2)/(len(data) - 1)\n",
    "\n",
    "modelresults = b1*data.xi + b0\n",
    "\n",
    "#mse also known as residual error\n",
    "mse = round(sum((data.yi - modelresults)**2)/(len(data) - 2), 2)\n",
    "\n",
    "print (\"Mean Squared Error:\", mse)"
   ]
  },
  {
   "cell_type": "markdown",
   "metadata": {},
   "source": [
    "## Find the R-Square value "
   ]
  },
  {
   "cell_type": "markdown",
   "metadata": {},
   "source": [
    "The correlation of determination, The R^2 value, essentially tells us by how much does the x explain the y. The closer to 1, the more x explains y. "
   ]
  },
  {
   "cell_type": "code",
   "execution_count": 4,
   "metadata": {},
   "outputs": [],
   "source": [
    "# regression sum of squares - how far the estimated sloped regression line (y-hat) is from the horizontal \"no relationship line\", the sample mean or meany\n",
    "SSR = sum( (modelresults - meany)**2)\n",
    "\n",
    "# error sum of squares - how much data points vary from the estimated regression line (y-hat)\n",
    "\n",
    "SSE = sum( (data.yi - modelresults)**2) \n",
    "\n",
    "# \"r^2 ×100 percent of the variation in y is reduced by taking into account predictor x\"\n",
    "\n",
    "#\"r^2 ×100 percent of the variation in y is 'explained by' the variation in predictor x.\"\n",
    "\n",
    "# total sum of squares - how much the data points vary from their mean\n",
    "SSTO = sum( (data.yi - meany) **2)\n",
    "\n",
    "# the co-efficient of determination, r-squared value\n",
    "rsquare = SSR/SSTO\n",
    "\n",
    "# alternative rsquare is also 1 - SSE/SSTO\n",
    "\n",
    "rsquare = 1 - (SSE/SSTO)\n",
    "\n",
    "# the higher the rsquare, the closer the model is to the actual datapoints."
   ]
  },
  {
   "cell_type": "code",
   "execution_count": 40,
   "metadata": {},
   "outputs": [
    {
     "name": "stdout",
     "output_type": "stream",
     "text": [
      "R-square:  0.897\n"
     ]
    }
   ],
   "source": [
    "print (\"R-square: \", round(rsquare,3))"
   ]
  },
  {
   "cell_type": "markdown",
   "metadata": {},
   "source": [
    "## (Pearson's) Correlation Coefficient"
   ]
  },
  {
   "cell_type": "code",
   "execution_count": 27,
   "metadata": {},
   "outputs": [
    {
     "name": "stdout",
     "output_type": "stream",
     "text": [
      "0.947\n",
      "0.947\n",
      "0.947\n"
     ]
    }
   ],
   "source": [
    "# you can just root the R^2 and get it\n",
    "\n",
    "r = abs(rsquare ** (1/2))\n",
    "print (round(r,3))\n",
    "\n",
    "# but r can also be found by using this:\n",
    "r = (sum((data.xi - meanx)*(data.yi - meany)))/((sum((data.xi - meanx)**2) * sum((data.yi - meany)**2))**0.5)\n",
    "\n",
    "print (round(r,3))\n",
    "\n",
    "# the r is a function of the estimated slope coefficient (b1)\n",
    "\n",
    "r = (sum((data.xi - meanx)**2)**0.5)/ (sum((data.yi - meany)**2)**0.5) * b1\n",
    "print (round(r,3))"
   ]
  },
  {
   "cell_type": "code",
   "execution_count": null,
   "metadata": {},
   "outputs": [],
   "source": [
    "If r = -1, then there is a perfect negative linear relationship between x and y.\n",
    "If r = 1, then there is a perfect positive linear relationship between x and y.\n",
    "If r = 0, then there is no linear relationship between x and y."
   ]
  },
  {
   "cell_type": "markdown",
   "metadata": {},
   "source": [
    "## Using Statsmodels package, printing summary results for Linear Regression"
   ]
  },
  {
   "cell_type": "code",
   "execution_count": 6,
   "metadata": {},
   "outputs": [
    {
     "name": "stdout",
     "output_type": "stream",
     "text": [
      "                            OLS Regression Results                            \n",
      "==============================================================================\n",
      "Dep. Variable:                     yi   R-squared:                       0.897\n",
      "Model:                            OLS   Adj. R-squared:                  0.884\n",
      "Method:                 Least Squares   F-statistic:                     69.67\n",
      "Date:                Thu, 20 Jun 2019   Prob (F-statistic):           3.21e-05\n",
      "Time:                        09:40:18   Log-Likelihood:                -34.639\n",
      "No. Observations:                  10   AIC:                             73.28\n",
      "Df Residuals:                       8   BIC:                             73.88\n",
      "Df Model:                           1                                         \n",
      "Covariance Type:            nonrobust                                         \n",
      "==============================================================================\n",
      "                 coef    std err          t      P>|t|      [0.025      0.975]\n",
      "------------------------------------------------------------------------------\n",
      "const       -266.5344     51.032     -5.223      0.001    -384.214    -148.854\n",
      "xi             6.1376      0.735      8.347      0.000       4.442       7.833\n",
      "==============================================================================\n",
      "Omnibus:                        0.036   Durbin-Watson:                   1.975\n",
      "Prob(Omnibus):                  0.982   Jarque-Bera (JB):                0.137\n",
      "Skew:                          -0.046   Prob(JB):                        0.934\n",
      "Kurtosis:                       2.434   Cond. No.                     1.30e+03\n",
      "==============================================================================\n",
      "\n",
      "Warnings:\n",
      "[1] Standard Errors assume that the covariance matrix of the errors is correctly specified.\n",
      "[2] The condition number is large, 1.3e+03. This might indicate that there are\n",
      "strong multicollinearity or other numerical problems.\n"
     ]
    },
    {
     "name": "stderr",
     "output_type": "stream",
     "text": [
      "C:\\Users\\A101234\\AppData\\Local\\Continuum\\anaconda3\\lib\\site-packages\\scipy\\stats\\stats.py:1394: UserWarning: kurtosistest only valid for n>=20 ... continuing anyway, n=10\n",
      "  \"anyway, n=%i\" % int(n))\n"
     ]
    }
   ],
   "source": [
    "# add constant\n",
    "X = sm.add_constant(data.xi)\n",
    "\n",
    "# running least squares linear regression to find best fit line\n",
    "result = sm.OLS(data.yi, X).fit()\n",
    "\n",
    "# printing summary of OLS \n",
    "print(result.summary())\n"
   ]
  },
  {
   "cell_type": "code",
   "execution_count": 7,
   "metadata": {
    "collapsed": true
   },
   "outputs": [
    {
     "name": "stdout",
     "output_type": "stream",
     "text": [
      "0    120.133237\n",
      "1    126.270818\n",
      "2    138.545981\n",
      "3    156.958726\n",
      "4    156.958726\n",
      "5    169.233888\n",
      "6    169.233888\n",
      "7    175.371470\n",
      "8    181.509051\n",
      "9    193.784214\n",
      "dtype: float64\n"
     ]
    }
   ],
   "source": [
    "# predict own X again\n",
    "print (result.predict(X))"
   ]
  },
  {
   "cell_type": "code",
   "execution_count": 8,
   "metadata": {
    "scrolled": false
   },
   "outputs": [
    {
     "name": "stdout",
     "output_type": "stream",
     "text": [
      "Mean Square Error:  74.67\n"
     ]
    }
   ],
   "source": [
    "# mse using Statsmodels\n",
    "print (\"Mean Square Error: \", round(result.mse_resid,2))"
   ]
  },
  {
   "cell_type": "code",
   "execution_count": 30,
   "metadata": {
    "scrolled": true
   },
   "outputs": [
    {
     "data": {
      "text/plain": [
       "0.947"
      ]
     },
     "execution_count": 30,
     "metadata": {},
     "output_type": "execute_result"
    }
   ],
   "source": [
    "# Pearson r\n",
    "round(scipy.stats.pearsonr(data.xi, data.yi)[0],3)"
   ]
  },
  {
   "cell_type": "markdown",
   "metadata": {},
   "source": [
    "## Using SKLearn package"
   ]
  },
  {
   "cell_type": "code",
   "execution_count": 34,
   "metadata": {},
   "outputs": [],
   "source": [
    "from sklearn import linear_model as lm\n",
    "from sklearn.metrics import mean_squared_error\n",
    "from sklearn.metrics import r2_score\n",
    "\n",
    "# creating and fitting the model on the dataset\n",
    "model = lm.LinearRegression()\n",
    "x = np.array(data.xi).reshape(-1,1)\n",
    "model.fit(x, data.yi)\n",
    "pred = model.predict(x)"
   ]
  },
  {
   "cell_type": "code",
   "execution_count": 10,
   "metadata": {
    "scrolled": true
   },
   "outputs": [
    {
     "name": "stdout",
     "output_type": "stream",
     "text": [
      "Mean Square Error:  59.74\n"
     ]
    }
   ],
   "source": [
    "# mse in sklearn does not minus away degrees of freedom, so it might look different \n",
    "mse = mean_squared_error(data.yi, modelresults)    \n",
    "print (\"Mean Square Error: \", round(mse,2))"
   ]
  },
  {
   "cell_type": "code",
   "execution_count": 38,
   "metadata": {},
   "outputs": [
    {
     "data": {
      "text/plain": [
       "0.897"
      ]
     },
     "execution_count": 38,
     "metadata": {},
     "output_type": "execute_result"
    }
   ],
   "source": [
    "r2 = r2_score(data.yi, pred)\n",
    "round(r2,3)"
   ]
  },
  {
   "cell_type": "code",
   "execution_count": 39,
   "metadata": {},
   "outputs": [
    {
     "data": {
      "text/plain": [
       "0.947"
      ]
     },
     "execution_count": 39,
     "metadata": {},
     "output_type": "execute_result"
    }
   ],
   "source": [
    "# Pearson r - looks like most documents state to just use scipy for it\n",
    "\n",
    "round(scipy.stats.pearsonr(data.xi, data.yi)[0],3)"
   ]
  }
 ],
 "metadata": {
  "kernelspec": {
   "display_name": "Python 3",
   "language": "python",
   "name": "python3"
  },
  "language_info": {
   "codemirror_mode": {
    "name": "ipython",
    "version": 3
   },
   "file_extension": ".py",
   "mimetype": "text/x-python",
   "name": "python",
   "nbconvert_exporter": "python",
   "pygments_lexer": "ipython3",
   "version": "3.6.5"
  }
 },
 "nbformat": 4,
 "nbformat_minor": 2
}
