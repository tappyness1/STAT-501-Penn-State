{
 "cells": [
  {
   "cell_type": "markdown",
   "metadata": {},
   "source": [
    "This summarises what is found in Lesson 2 of the Stats501 in Penn State University's Regression Methods Course\n",
    "\n",
    "This lesson deals with SLR's model evaluation. \n",
    "\n",
    "https://newonlinecourses.science.psu.edu/stat501/node/260/"
   ]
  },
  {
   "cell_type": "code",
   "execution_count": 6,
   "metadata": {
    "scrolled": true
   },
   "outputs": [
    {
     "data": {
      "image/png": "[encoded data removed]",
      "text/plain": [
       "<Figure size 432x288 with 1 Axes>"
      ]
     },
     "metadata": {},
     "output_type": "display_data"
    }
   ],
   "source": [
    "import pandas as pd\n",
    "import numpy as np\n",
    "from scipy import stats\n",
    "import statsmodels.api as sm\n",
    "import seaborn as sns\n",
    "import matplotlib.pyplot as plt\n",
    "\n",
    "data = pd.read_csv('skincancer.csv')\n",
    "\n",
    "sns.regplot(data.Lat, data.Mort)\n",
    "plt.show()"
   ]
  },
  {
   "cell_type": "markdown",
   "metadata": {},
   "source": [
    "We have done model fitting for SLR before, so we will call statsmodels to get the necessary information that we have gotten before rather than doing the same processes again.\n",
    "\n",
    "These include:\n",
    "1) MSE\n",
    "2) b1\n",
    "3) b0"
   ]
  },
  {
   "cell_type": "code",
   "execution_count": 7,
   "metadata": {
    "scrolled": true
   },
   "outputs": [
    {
     "data": {
      "text/html": [
       "<table class=\"simpletable\">\n",
       "<caption>OLS Regression Results</caption>\n",
       "<tr>\n",
       "  <th>Dep. Variable:</th>          <td>Mort</td>       <th>  R-squared:         </th> <td>   0.680</td>\n",
       "</tr>\n",
       "<tr>\n",
       "  <th>Model:</th>                   <td>OLS</td>       <th>  Adj. R-squared:    </th> <td>   0.673</td>\n",
       "</tr>\n",
       "<tr>\n",
       "  <th>Method:</th>             <td>Least Squares</td>  <th>  F-statistic:       </th> <td>   99.80</td>\n",
       "</tr>\n",
       "<tr>\n",
       "  <th>Date:</th>             <td>Thu, 27 Jun 2019</td> <th>  Prob (F-statistic):</th> <td>3.31e-13</td>\n",
       "</tr>\n",
       "<tr>\n",
       "  <th>Time:</th>                 <td>09:34:37</td>     <th>  Log-Likelihood:    </th> <td> -213.08</td>\n",
       "</tr>\n",
       "<tr>\n",
       "  <th>No. Observations:</th>      <td>    49</td>      <th>  AIC:               </th> <td>   430.2</td>\n",
       "</tr>\n",
       "<tr>\n",
       "  <th>Df Residuals:</th>          <td>    47</td>      <th>  BIC:               </th> <td>   433.9</td>\n",
       "</tr>\n",
       "<tr>\n",
       "  <th>Df Model:</th>              <td>     1</td>      <th>                     </th>     <td> </td>   \n",
       "</tr>\n",
       "<tr>\n",
       "  <th>Covariance Type:</th>      <td>nonrobust</td>    <th>                     </th>     <td> </td>   \n",
       "</tr>\n",
       "</table>\n",
       "<table class=\"simpletable\">\n",
       "<tr>\n",
       "    <td></td>       <th>coef</th>     <th>std err</th>      <th>t</th>      <th>P>|t|</th>  <th>[0.025</th>    <th>0.975]</th>  \n",
       "</tr>\n",
       "<tr>\n",
       "  <th>const</th> <td>  389.1894</td> <td>   23.812</td> <td>   16.344</td> <td> 0.000</td> <td>  341.285</td> <td>  437.094</td>\n",
       "</tr>\n",
       "<tr>\n",
       "  <th>Lat</th>   <td>   -5.9776</td> <td>    0.598</td> <td>   -9.990</td> <td> 0.000</td> <td>   -7.181</td> <td>   -4.774</td>\n",
       "</tr>\n",
       "</table>\n",
       "<table class=\"simpletable\">\n",
       "<tr>\n",
       "  <th>Omnibus:</th>       <td> 0.740</td> <th>  Durbin-Watson:     </th> <td>   2.131</td>\n",
       "</tr>\n",
       "<tr>\n",
       "  <th>Prob(Omnibus):</th> <td> 0.691</td> <th>  Jarque-Bera (JB):  </th> <td>   0.773</td>\n",
       "</tr>\n",
       "<tr>\n",
       "  <th>Skew:</th>          <td> 0.094</td> <th>  Prob(JB):          </th> <td>   0.679</td>\n",
       "</tr>\n",
       "<tr>\n",
       "  <th>Kurtosis:</th>      <td> 2.414</td> <th>  Cond. No.          </th> <td>    347.</td>\n",
       "</tr>\n",
       "</table><br/><br/>Warnings:<br/>[1] Standard Errors assume that the covariance matrix of the errors is correctly specified."
      ],
      "text/plain": [
       "<class 'statsmodels.iolib.summary.Summary'>\n",
       "\"\"\"\n",
       "                            OLS Regression Results                            \n",
       "==============================================================================\n",
       "Dep. Variable:                   Mort   R-squared:                       0.680\n",
       "Model:                            OLS   Adj. R-squared:                  0.673\n",
       "Method:                 Least Squares   F-statistic:                     99.80\n",
       "Date:                Thu, 27 Jun 2019   Prob (F-statistic):           3.31e-13\n",
       "Time:                        09:34:37   Log-Likelihood:                -213.08\n",
       "No. Observations:                  49   AIC:                             430.2\n",
       "Df Residuals:                      47   BIC:                             433.9\n",
       "Df Model:                           1                                         \n",
       "Covariance Type:            nonrobust                                         \n",
       "==============================================================================\n",
       "                 coef    std err          t      P>|t|      [0.025      0.975]\n",
       "------------------------------------------------------------------------------\n",
       "const        389.1894     23.812     16.344      0.000     341.285     437.094\n",
       "Lat           -5.9776      0.598     -9.990      0.000      -7.181      -4.774\n",
       "==============================================================================\n",
       "Omnibus:                        0.740   Durbin-Watson:                   2.131\n",
       "Prob(Omnibus):                  0.691   Jarque-Bera (JB):                0.773\n",
       "Skew:                           0.094   Prob(JB):                        0.679\n",
       "Kurtosis:                       2.414   Cond. No.                         347.\n",
       "==============================================================================\n",
       "\n",
       "Warnings:\n",
       "[1] Standard Errors assume that the covariance matrix of the errors is correctly specified.\n",
       "\"\"\""
      ]
     },
     "execution_count": 7,
     "metadata": {},
     "output_type": "execute_result"
    }
   ],
   "source": [
    "X = sm.add_constant(data.Lat)\n",
    "result = sm.OLS(data.Mort, X).fit()\n",
    "result.summary()"
   ]
  },
  {
   "cell_type": "markdown",
   "metadata": {},
   "source": [
    "Once we have established a relation between X and Y, we want to know the likelihood that the slope of the curve being 0 is very, very low (like say, less than 1% likelihood)\n",
    "\n",
    "The slope also gives us an idea about the estimate of the slope. However, since it is an estimate, the true value of b1 is unknown. It would be more likely that the true value is a range of value, and among one of the values in the range is true. However we also need to limit this range of values. We thus have a \"confidence interval\", an interval of values that we are 99% or 95% sure that the true value resides in. \n",
    "\n",
    "To get the confidence interval, we use:\n",
    "\n",
    "$ Sample\\ Estimate \\pm (t-multiplier \\times standard\\ error) $\n",
    "\n",
    "Notation - \n",
    "\n",
    "$b_1 \\pm t_{(\\alpha/2, n-2)}\\times \\left( \\frac{\\sqrt{MSE}}{\\sqrt{\\sum(x_i-\\bar{x})^2}} \\right)$"
   ]
  },
  {
   "cell_type": "markdown",
   "metadata": {},
   "source": [
    "For Python, we can do a function to take in an arg ($b_1$ or $b_0$) and produce the confidence interval."
   ]
  },
  {
   "cell_type": "code",
   "execution_count": 8,
   "metadata": {
    "scrolled": true
   },
   "outputs": [
    {
     "name": "stdout",
     "output_type": "stream",
     "text": [
      "                0           1\n",
      "const  341.285151  437.093551\n",
      "Lat     -7.181404   -4.773867\n",
      "[-7.181404430206724, -4.773867058617141]\n",
      "[341.2851506147255, 437.093551446513]\n"
     ]
    }
   ],
   "source": [
    "from scipy.stats import t\n",
    "print(result.conf_int())\n",
    "\n",
    "def CInt(var, df):\n",
    "    tmult = t.ppf(0.975, df = df)\n",
    "    mse = result.mse_resid\n",
    "    se = result.bse\n",
    "    CI = [(result.params[var] + tmult*se[var]), (result.params[var] - tmult*se[var])]\n",
    "    CI.sort()\n",
    "    return CI\n",
    "    \n",
    "b1 = 'Lat'\n",
    "tmult = t.ppf(0.975, df = 47)\n",
    "mse = result.mse_resid\n",
    "se = result.bse\n",
    "cib1 = [(result.params[b1] + tmult*se[b1]), (result.params[b1] - tmult*se[b1])]\n",
    "cib1.sort()\n",
    "\n",
    "cib1 = CInt('Lat', 47)\n",
    "cib0 = CInt('const', 47)\n",
    "\n",
    "print (cib1)\n",
    "print (cib0)\n"
   ]
  },
  {
   "cell_type": "markdown",
   "metadata": {},
   "source": [
    "If the confidence interval for β1 contains 0, then we conclude that there is no evidence of a linear relationship between the predictor x and the response y in the population. On the other hand, if the confidence interval for β1 does not contain 0, then we conclude that there is evidence of a linear relationship between the predictor x and the response y in the population."
   ]
  },
  {
   "cell_type": "code",
   "execution_count": 9,
   "metadata": {},
   "outputs": [],
   "source": [
    "pred = result.predict(X)"
   ]
  }
 ],
 "metadata": {
  "kernelspec": {
   "display_name": "Python 3",
   "language": "python",
   "name": "python3"
  },
  "language_info": {
   "codemirror_mode": {
    "name": "ipython",
    "version": 3
   },
   "file_extension": ".py",
   "mimetype": "text/x-python",
   "name": "python",
   "nbconvert_exporter": "python",
   "pygments_lexer": "ipython3",
   "version": "3.6.5"
  }
 },
 "nbformat": 4,
 "nbformat_minor": 2
}
