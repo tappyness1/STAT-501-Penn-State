{
 "cells": [
  {
   "cell_type": "markdown",
   "metadata": {},
   "source": [
    "This summarises what is found in Lesson 3 of the Stats501 in Penn State University's Regression Methods Course\n",
    "\n",
    "This lesson deals with SLR's model estimation and prediction. \n",
    "\n",
    "https://newonlinecourses.science.psu.edu/stat501/node/271/"
   ]
  },
  {
   "cell_type": "markdown",
   "metadata": {},
   "source": [
    "**Estimate $\\mu_y$**\n",
    "\n",
    "1. $\\mu_y$ is the population mean of $y$ while $\\bar{y}$ is the sample mean\n",
    "2. In order to infer the $\\mu_y$, we can reasonably use $\\bar{y}$ to do an estimate.\n",
    "3. However, in this case, how confident are we? We can use an estimate interval for such a thing\n",
    "\n",
    "**Predict $y$**\n",
    "\n",
    "1. What would be a good estimate for predicting $y$? It seems reasonable to calculate a 'prediction interval' for using $\\bar{y}$ \n",
    "\n",
    "There is a difference between getting the $\\mu_y$ and predicting y. Why that is so is pretty abstract and takes alot of convincing to a normie like me.\n",
    "\n",
    "\n",
    "However, since this is part of this whole rollercoaster, let's assume that we are answering two questions - \n",
    "\n",
    "1. What is the mean response $µ_Y$ when the predictor value is $x_h$?\n",
    "2. What value will a new response $y_{new}$ be when the predictor value is $x_h$?\n",
    "\n",
    "The best way to think about this is this - \n",
    "\n",
    "1. What is the expected (mean) mortality rate due to skin cancer for **all locations** at 40 degrees north latitude?\n",
    "2. What is the predicted mortality rate for **one individual location** at 40 degrees north, say at Chambersburg, Pennsylvania?\n",
    "\n",
    "They may look the same ($\\hat{y}_h=b_0+b_1x_h$) but this may change if we receive a new set of data.\n",
    "\n",
    "We'll be looking again at the skincancer data set"
   ]
  },
  {
   "cell_type": "code",
   "execution_count": 30,
   "metadata": {},
   "outputs": [
    {
     "data": {
      "image/png": "[encoded data removed]",
      "text/plain": [
       "<Figure size 432x288 with 1 Axes>"
      ]
     },
     "metadata": {},
     "output_type": "display_data"
    }
   ],
   "source": [
    "import pandas as pd\n",
    "import numpy as np\n",
    "from scipy import stats\n",
    "import statsmodels.api as sm\n",
    "import seaborn as sns\n",
    "import matplotlib.pyplot as plt\n",
    "from scipy.stats import t\n",
    "\n",
    "data = pd.read_csv('skincancer.csv')\n",
    "\n",
    "sns.regplot(data.Lat, data.Mort)\n",
    "plt.show()"
   ]
  },
  {
   "cell_type": "code",
   "execution_count": 31,
   "metadata": {},
   "outputs": [
    {
     "data": {
      "text/html": [
       "<table class=\"simpletable\">\n",
       "<caption>OLS Regression Results</caption>\n",
       "<tr>\n",
       "  <th>Dep. Variable:</th>          <td>Mort</td>       <th>  R-squared:         </th> <td>   0.680</td>\n",
       "</tr>\n",
       "<tr>\n",
       "  <th>Model:</th>                   <td>OLS</td>       <th>  Adj. R-squared:    </th> <td>   0.673</td>\n",
       "</tr>\n",
       "<tr>\n",
       "  <th>Method:</th>             <td>Least Squares</td>  <th>  F-statistic:       </th> <td>   99.80</td>\n",
       "</tr>\n",
       "<tr>\n",
       "  <th>Date:</th>             <td>Thu, 27 Jun 2019</td> <th>  Prob (F-statistic):</th> <td>3.31e-13</td>\n",
       "</tr>\n",
       "<tr>\n",
       "  <th>Time:</th>                 <td>09:34:25</td>     <th>  Log-Likelihood:    </th> <td> -213.08</td>\n",
       "</tr>\n",
       "<tr>\n",
       "  <th>No. Observations:</th>      <td>    49</td>      <th>  AIC:               </th> <td>   430.2</td>\n",
       "</tr>\n",
       "<tr>\n",
       "  <th>Df Residuals:</th>          <td>    47</td>      <th>  BIC:               </th> <td>   433.9</td>\n",
       "</tr>\n",
       "<tr>\n",
       "  <th>Df Model:</th>              <td>     1</td>      <th>                     </th>     <td> </td>   \n",
       "</tr>\n",
       "<tr>\n",
       "  <th>Covariance Type:</th>      <td>nonrobust</td>    <th>                     </th>     <td> </td>   \n",
       "</tr>\n",
       "</table>\n",
       "<table class=\"simpletable\">\n",
       "<tr>\n",
       "    <td></td>       <th>coef</th>     <th>std err</th>      <th>t</th>      <th>P>|t|</th>  <th>[0.025</th>    <th>0.975]</th>  \n",
       "</tr>\n",
       "<tr>\n",
       "  <th>const</th> <td>  389.1894</td> <td>   23.812</td> <td>   16.344</td> <td> 0.000</td> <td>  341.285</td> <td>  437.094</td>\n",
       "</tr>\n",
       "<tr>\n",
       "  <th>Lat</th>   <td>   -5.9776</td> <td>    0.598</td> <td>   -9.990</td> <td> 0.000</td> <td>   -7.181</td> <td>   -4.774</td>\n",
       "</tr>\n",
       "</table>\n",
       "<table class=\"simpletable\">\n",
       "<tr>\n",
       "  <th>Omnibus:</th>       <td> 0.740</td> <th>  Durbin-Watson:     </th> <td>   2.131</td>\n",
       "</tr>\n",
       "<tr>\n",
       "  <th>Prob(Omnibus):</th> <td> 0.691</td> <th>  Jarque-Bera (JB):  </th> <td>   0.773</td>\n",
       "</tr>\n",
       "<tr>\n",
       "  <th>Skew:</th>          <td> 0.094</td> <th>  Prob(JB):          </th> <td>   0.679</td>\n",
       "</tr>\n",
       "<tr>\n",
       "  <th>Kurtosis:</th>      <td> 2.414</td> <th>  Cond. No.          </th> <td>    347.</td>\n",
       "</tr>\n",
       "</table><br/><br/>Warnings:<br/>[1] Standard Errors assume that the covariance matrix of the errors is correctly specified."
      ],
      "text/plain": [
       "<class 'statsmodels.iolib.summary.Summary'>\n",
       "\"\"\"\n",
       "                            OLS Regression Results                            \n",
       "==============================================================================\n",
       "Dep. Variable:                   Mort   R-squared:                       0.680\n",
       "Model:                            OLS   Adj. R-squared:                  0.673\n",
       "Method:                 Least Squares   F-statistic:                     99.80\n",
       "Date:                Thu, 27 Jun 2019   Prob (F-statistic):           3.31e-13\n",
       "Time:                        09:34:25   Log-Likelihood:                -213.08\n",
       "No. Observations:                  49   AIC:                             430.2\n",
       "Df Residuals:                      47   BIC:                             433.9\n",
       "Df Model:                           1                                         \n",
       "Covariance Type:            nonrobust                                         \n",
       "==============================================================================\n",
       "                 coef    std err          t      P>|t|      [0.025      0.975]\n",
       "------------------------------------------------------------------------------\n",
       "const        389.1894     23.812     16.344      0.000     341.285     437.094\n",
       "Lat           -5.9776      0.598     -9.990      0.000      -7.181      -4.774\n",
       "==============================================================================\n",
       "Omnibus:                        0.740   Durbin-Watson:                   2.131\n",
       "Prob(Omnibus):                  0.691   Jarque-Bera (JB):                0.773\n",
       "Skew:                           0.094   Prob(JB):                        0.679\n",
       "Kurtosis:                       2.414   Cond. No.                         347.\n",
       "==============================================================================\n",
       "\n",
       "Warnings:\n",
       "[1] Standard Errors assume that the covariance matrix of the errors is correctly specified.\n",
       "\"\"\""
      ]
     },
     "execution_count": 31,
     "metadata": {},
     "output_type": "execute_result"
    }
   ],
   "source": [
    "X = sm.add_constant(data.Lat)\n",
    "result = sm.OLS(data.Mort, X).fit()\n",
    "result.summary()"
   ]
  },
  {
   "cell_type": "markdown",
   "metadata": {},
   "source": [
    "## Confidence Interval of Mean Response\n",
    "\n",
    "**$µ_Y$ when the predictor value is $x_h$ (Expected mean response given a predictor value)**\n",
    "\n",
    "Sample estimate ± (t-multiplier × standard error)\n",
    "\n",
    "$\\hat{y}_h \\pm t_{(\\alpha/2, n-2)} \\times \\sqrt{MSE \\times \\left( \\frac{1}{n} + \\frac{(x_h-\\bar{x})^2}{\\sum(x_i-\\bar{x})^2}\\right)}$\n",
    "\n",
    "Where:\n",
    "- $\\hat{y}_h$ is the predicted value\n",
    "- $t_{(\\alpha/2, n-2)}$ is the t-multiplier\n",
    "- $\\sqrt{MSE \\times \\left( \\frac{1}{n} + \\frac{(x_h-\\bar{x})^2}{\\sum(x_i-\\bar{x})^2}\\right)}$ is the standard error fit\n",
    "\n",
    "Without statsmodels (besides what we have done before), we can create function to get this interval:"
   ]
  },
  {
   "cell_type": "code",
   "execution_count": 32,
   "metadata": {},
   "outputs": [
    {
     "name": "stdout",
     "output_type": "stream",
     "text": [
      "(144.56169307209458, 155.60614943618933)\n"
     ]
    }
   ],
   "source": [
    "def CIMeanY(result, predvalue, X, x):\n",
    "    yhat = result.predict(pd.DataFrame({'const': [1.0], 'Lat': [predvalue]}))\n",
    "    mse = result.mse_resid #look at L1 for how to get mse in the first place\n",
    "    stderror = (mse * (1/len(X) + ((predvalue - x.mean()) ** 2 / sum((x - x.mean())**2))))**0.5\n",
    "    tmult = t.ppf(0.975, df = (len(X) - 2))\n",
    "    lower = yhat - (tmult * stderror)\n",
    "    upper = yhat + (tmult*stderror)\n",
    "    return lower.iloc[0], upper.iloc[0]\n",
    "\n",
    "print (CIMeanY(result, 40, X, data.Lat))"
   ]
  },
  {
   "cell_type": "markdown",
   "metadata": {},
   "source": [
    "## Prediction Interval\n",
    "\n",
    "$\\hat{y}_h \\pm t_{(\\alpha/2, n-2)} \\times \\sqrt{MSE \\left( 1+\\frac{1}{n} + \\frac{(x_h-\\bar{x})^2}{\\sum(x_i-\\bar{x})^2}\\right)}$\n",
    "\n",
    "Sample estimate ± (t-multiplier × standard error)\n",
    "\n",
    "Where:\n",
    "- $\\hat{y}_h$ is the predicted value\n",
    "- $t_{(\\alpha/2, n-2)}$ is the t-multiplier\n",
    "- $\\sqrt{MSE \\left( 1+\\frac{1}{n} + \\frac{(x_h-\\bar{x})^2}{\\sum(x_i-\\bar{x})^2}\\right)}$ is the standard error of the prediction, which is very similar to the standard error of the fit when estimating $µ_Y$. The standard error of the prediction just has an extra MSE term added that the standard error of the fit does not.\n",
    "\n",
    "Again, we can create a function similar to the CIMeanY to get the prediction interval"
   ]
  },
  {
   "cell_type": "code",
   "execution_count": 33,
   "metadata": {},
   "outputs": [
    {
     "name": "stdout",
     "output_type": "stream",
     "text": [
      "(111.234957047654, 188.9328854606299)\n"
     ]
    }
   ],
   "source": [
    "def PIofYhat(result, predvalue, X, x):\n",
    "    yhat = result.predict(pd.DataFrame({'const': [1.0], 'Lat': [predvalue]}))\n",
    "    mse = result.mse_resid #look at L1 for how to get mse in the first place\n",
    "    stderror = (mse * (1 + (1/len(X)) + ((predvalue - x.mean()) ** 2 / sum((x - x.mean())**2))))**0.5\n",
    "    tmult = t.ppf(0.975, df = (len(X) - 2))\n",
    "    lower = yhat - (tmult * stderror)\n",
    "    upper = yhat + (tmult*stderror)\n",
    "    return lower.iloc[0], upper.iloc[0]\n",
    "\n",
    "print (PIofYhat(result, 40, X, data.Lat))"
   ]
  },
  {
   "cell_type": "markdown",
   "metadata": {},
   "source": [
    "**Using statsmodels to get the CI and PI**"
   ]
  },
  {
   "cell_type": "code",
   "execution_count": 34,
   "metadata": {
    "scrolled": true
   },
   "outputs": [
    {
     "data": {
      "text/html": [
       "<div>\n",
       "<style scoped>\n",
       "    .dataframe tbody tr th:only-of-type {\n",
       "        vertical-align: middle;\n",
       "    }\n",
       "\n",
       "    .dataframe tbody tr th {\n",
       "        vertical-align: top;\n",
       "    }\n",
       "\n",
       "    .dataframe thead th {\n",
       "        text-align: right;\n",
       "    }\n",
       "</style>\n",
       "<table border=\"1\" class=\"dataframe\">\n",
       "  <thead>\n",
       "    <tr style=\"text-align: right;\">\n",
       "      <th></th>\n",
       "      <th>mean</th>\n",
       "      <th>mean_se</th>\n",
       "      <th>mean_ci_lower</th>\n",
       "      <th>mean_ci_upper</th>\n",
       "      <th>obs_ci_lower</th>\n",
       "      <th>obs_ci_upper</th>\n",
       "    </tr>\n",
       "  </thead>\n",
       "  <tbody>\n",
       "    <tr>\n",
       "      <th>0</th>\n",
       "      <td>150.083921</td>\n",
       "      <td>2.745</td>\n",
       "      <td>144.561693</td>\n",
       "      <td>155.606149</td>\n",
       "      <td>111.234957</td>\n",
       "      <td>188.932885</td>\n",
       "    </tr>\n",
       "  </tbody>\n",
       "</table>\n",
       "</div>"
      ],
      "text/plain": [
       "         mean  mean_se  mean_ci_lower  mean_ci_upper  obs_ci_lower  \\\n",
       "0  150.083921    2.745     144.561693     155.606149    111.234957   \n",
       "\n",
       "   obs_ci_upper  \n",
       "0    188.932885  "
      ]
     },
     "execution_count": 34,
     "metadata": {},
     "output_type": "execute_result"
    }
   ],
   "source": [
    "predvalues = pd.DataFrame({'const': [1.0], 'Lat': [40.0]})\n",
    "\n",
    "sumframe = result.get_prediction(predvalues).summary_frame(alpha=0.05)\n",
    "# when40 = data[data.Lat==40].index[0]\n",
    "# print(\"CI: \", sumframe.iloc[when40].loc['mean_ci_lower'], \",\", sumframe.iloc[when40].loc['mean_ci_upper'])\n",
    "# print (\"PI: \", sumframe.iloc[when40].loc['obs_ci_lower'], \",\", sumframe.iloc[when40].loc['obs_ci_upper'])\n",
    "# sumframe.iloc[when40]\n",
    "sumframe"
   ]
  },
  {
   "cell_type": "markdown",
   "metadata": {},
   "source": [
    "**Alternate Method with Statsmodels**"
   ]
  },
  {
   "cell_type": "code",
   "execution_count": 35,
   "metadata": {
    "scrolled": false
   },
   "outputs": [
    {
     "name": "stdout",
     "output_type": "stream",
     "text": [
      "[ 1.20000000e+01  1.24000000e+02  1.50083921e+02  2.74500024e+00\n",
      "  1.44561693e+02  1.55606149e+02  1.11234957e+02  1.88932885e+02\n",
      " -2.60839213e+01  1.89169061e+01 -1.37886825e+00  2.00170513e-02]\n",
      "['Obs', 'Dep Var\\nPopulation', 'Predicted\\nValue', 'Std Error\\nMean Predict', 'Mean ci\\n95% low', 'Mean ci\\n95% upp', 'Predict ci\\n95% low', 'Predict ci\\n95% upp', 'Residual', 'Std Error\\nResidual', 'Student\\nResidual', \"Cook's\\nD\"]\n"
     ]
    }
   ],
   "source": [
    "from statsmodels.stats.outliers_influence import summary_table\n",
    "\n",
    "print(summary_table(result, alpha=0.05)[1][11])\n",
    "print(summary_table(result, alpha=0.05)[2])"
   ]
  },
  {
   "cell_type": "markdown",
   "metadata": {},
   "source": [
    "Not my favourite method because messy to figure out."
   ]
  },
  {
   "cell_type": "markdown",
   "metadata": {},
   "source": [
    "## Findings\n",
    "\n",
    "With a CI of (144.56, 155.61), we can say that 95% of Mean Y ($\\mu_y$) values will fall within this range when $x_h$ is at 40. \n",
    "\n",
    "With a PI of (111.23, 188.93), we can say that 95% of predicted values of Y will within this range when we give an input of $x_h$ = 40."
   ]
  },
  {
   "cell_type": "markdown",
   "metadata": {},
   "source": [
    "**When to use the formula**\n",
    "\n",
    "- When $x_h$ is a value within the range of the x values in the data set — that is, when $x_h$ is a value within the \"scope of the model.\" But, note that $x_h$ does not have to be one of the actual x values in the data set.\n",
    "- When the \"LINE\" conditions — linearity, independent errors, normal errors, equal error variances — are met. The formula works okay even if the error terms are only approximately normal. And, if you have a large sample, the error terms can even deviate substantially from normality."
   ]
  }
 ],
 "metadata": {
  "kernelspec": {
   "display_name": "Python 3",
   "language": "python",
   "name": "python3"
  },
  "language_info": {
   "codemirror_mode": {
    "name": "ipython",
    "version": 3
   },
   "file_extension": ".py",
   "mimetype": "text/x-python",
   "name": "python",
   "nbconvert_exporter": "python",
   "pygments_lexer": "ipython3",
   "version": "3.6.5"
  }
 },
 "nbformat": 4,
 "nbformat_minor": 2
}
